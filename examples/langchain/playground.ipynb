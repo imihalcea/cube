{
 "cells": [
  {
   "cell_type": "code",
   "id": "initial_id",
   "metadata": {
    "collapsed": true,
    "ExecuteTime": {
     "end_time": "2025-03-03T15:19:16.545802Z",
     "start_time": "2025-03-03T15:19:16.542530Z"
    }
   },
   "source": [
    "import os\n",
    "from dotenv import load_dotenv\n",
    "\n",
    "from langchain_community.document_loaders import CubeSemanticLoader\n",
    "load_dotenv()"
   ],
   "outputs": [
    {
     "data": {
      "text/plain": [
       "True"
      ]
     },
     "execution_count": 5,
     "metadata": {},
     "output_type": "execute_result"
    }
   ],
   "execution_count": 5
  },
  {
   "metadata": {
    "ExecuteTime": {
     "end_time": "2025-03-03T15:19:16.776096Z",
     "start_time": "2025-03-03T15:19:16.682983Z"
    }
   },
   "cell_type": "code",
   "source": [
    "token = os.environ[\"CUBE_API_SECRET\"]\n",
    "loader = CubeSemanticLoader(os.environ[\"CUBE_API_URL\"], token, load_dimension_values=False)\n",
    "documents = loader.load()\n",
    "documents"
   ],
   "id": "631eba4124051b7c",
   "outputs": [
    {
     "data": {
      "text/plain": [
       "[Document(metadata={'table_name': 'line_items', 'column_name': 'line_items.count', 'column_data_type': 'number', 'column_title': 'Line Items Count', 'column_description': 'None', 'column_member_type': 'measure', 'column_values': [], 'cube_data_obj_type': 'cube'}, page_content='Line Items Count, None'),\n",
       " Document(metadata={'table_name': 'line_items', 'column_name': 'line_items.order_id', 'column_data_type': 'number', 'column_title': 'Line Items Order Id', 'column_description': 'None', 'column_member_type': 'dimension', 'column_values': [], 'cube_data_obj_type': 'cube'}, page_content='Line Items Order Id, None'),\n",
       " Document(metadata={'table_name': 'line_items', 'column_name': 'line_items.product_id', 'column_data_type': 'number', 'column_title': 'Line Items Product Id', 'column_description': 'None', 'column_member_type': 'dimension', 'column_values': [], 'cube_data_obj_type': 'cube'}, page_content='Line Items Product Id, None'),\n",
       " Document(metadata={'table_name': 'line_items', 'column_name': 'line_items.price', 'column_data_type': 'number', 'column_title': 'Line Items Price', 'column_description': 'None', 'column_member_type': 'dimension', 'column_values': [], 'cube_data_obj_type': 'cube'}, page_content='Line Items Price, None'),\n",
       " Document(metadata={'table_name': 'line_items', 'column_name': 'line_items.created_at', 'column_data_type': 'time', 'column_title': 'Line Items Created at', 'column_description': 'None', 'column_member_type': 'dimension', 'column_values': [], 'cube_data_obj_type': 'cube'}, page_content='Line Items Created at, None'),\n",
       " Document(metadata={'table_name': 'orders', 'column_name': 'orders.count', 'column_data_type': 'number', 'column_title': 'Orders Count', 'column_description': 'None', 'column_member_type': 'measure', 'column_values': [], 'cube_data_obj_type': 'cube'}, page_content='Orders Count, None'),\n",
       " Document(metadata={'table_name': 'orders', 'column_name': 'orders.completed_count', 'column_data_type': 'number', 'column_title': 'Orders Completed Count', 'column_description': 'None', 'column_member_type': 'measure', 'column_values': [], 'cube_data_obj_type': 'cube'}, page_content='Orders Completed Count, None'),\n",
       " Document(metadata={'table_name': 'orders', 'column_name': 'orders.completed_percentage', 'column_data_type': 'number', 'column_title': 'Orders Completed Percentage', 'column_description': 'None', 'column_member_type': 'measure', 'column_values': [], 'cube_data_obj_type': 'cube'}, page_content='Orders Completed Percentage, None'),\n",
       " Document(metadata={'table_name': 'orders', 'column_name': 'orders.total_order_price', 'column_data_type': 'number', 'column_title': 'Orders Total Order Price', 'column_description': 'None', 'column_member_type': 'measure', 'column_values': [], 'cube_data_obj_type': 'cube'}, page_content='Orders Total Order Price, None'),\n",
       " Document(metadata={'table_name': 'orders', 'column_name': 'orders.user_id', 'column_data_type': 'number', 'column_title': 'Orders User Id', 'column_description': 'None', 'column_member_type': 'dimension', 'column_values': [], 'cube_data_obj_type': 'cube'}, page_content='Orders User Id, None'),\n",
       " Document(metadata={'table_name': 'orders', 'column_name': 'orders.status', 'column_data_type': 'string', 'column_title': 'Orders Status', 'column_description': 'None', 'column_member_type': 'dimension', 'column_values': [], 'cube_data_obj_type': 'cube'}, page_content='Orders Status, None'),\n",
       " Document(metadata={'table_name': 'orders', 'column_name': 'orders.created_at', 'column_data_type': 'time', 'column_title': 'Orders Created at', 'column_description': 'None', 'column_member_type': 'dimension', 'column_values': [], 'cube_data_obj_type': 'cube'}, page_content='Orders Created at, None'),\n",
       " Document(metadata={'table_name': 'orders', 'column_name': 'orders.completed_at', 'column_data_type': 'time', 'column_title': 'Orders Completed at', 'column_description': 'None', 'column_member_type': 'dimension', 'column_values': [], 'cube_data_obj_type': 'cube'}, page_content='Orders Completed at, None'),\n",
       " Document(metadata={'table_name': 'orders', 'column_name': 'orders.line_items_price_total', 'column_data_type': 'number', 'column_title': 'Orders Line Items Price Total', 'column_description': 'None', 'column_member_type': 'dimension', 'column_values': [], 'cube_data_obj_type': 'cube'}, page_content='Orders Line Items Price Total, None'),\n",
       " Document(metadata={'table_name': 'products', 'column_name': 'products.count', 'column_data_type': 'number', 'column_title': 'Products Count', 'column_description': 'None', 'column_member_type': 'measure', 'column_values': [], 'cube_data_obj_type': 'cube'}, page_content='Products Count, None'),\n",
       " Document(metadata={'table_name': 'products', 'column_name': 'products.product_category', 'column_data_type': 'string', 'column_title': 'Products Product Category', 'column_description': 'None', 'column_member_type': 'dimension', 'column_values': [], 'cube_data_obj_type': 'cube'}, page_content='Products Product Category, None'),\n",
       " Document(metadata={'table_name': 'products', 'column_name': 'products.name', 'column_data_type': 'string', 'column_title': 'Products Name', 'column_description': 'None', 'column_member_type': 'dimension', 'column_values': [], 'cube_data_obj_type': 'cube'}, page_content='Products Name, None'),\n",
       " Document(metadata={'table_name': 'products', 'column_name': 'products.created_at', 'column_data_type': 'time', 'column_title': 'Products Created at', 'column_description': 'None', 'column_member_type': 'dimension', 'column_values': [], 'cube_data_obj_type': 'cube'}, page_content='Products Created at, None'),\n",
       " Document(metadata={'table_name': 'users', 'column_name': 'users.count', 'column_data_type': 'number', 'column_title': 'Users Count', 'column_description': 'None', 'column_member_type': 'measure', 'column_values': [], 'cube_data_obj_type': 'cube'}, page_content='Users Count, None'),\n",
       " Document(metadata={'table_name': 'users', 'column_name': 'users.age', 'column_data_type': 'number', 'column_title': 'Users Age', 'column_description': 'None', 'column_member_type': 'dimension', 'column_values': [], 'cube_data_obj_type': 'cube'}, page_content='Users Age, None'),\n",
       " Document(metadata={'table_name': 'users', 'column_name': 'users.gender', 'column_data_type': 'string', 'column_title': 'Users Gender', 'column_description': 'None', 'column_member_type': 'dimension', 'column_values': [], 'cube_data_obj_type': 'cube'}, page_content='Users Gender, None'),\n",
       " Document(metadata={'table_name': 'users', 'column_name': 'users.city', 'column_data_type': 'string', 'column_title': 'Users City', 'column_description': 'None', 'column_member_type': 'dimension', 'column_values': [], 'cube_data_obj_type': 'cube'}, page_content='Users City, None'),\n",
       " Document(metadata={'table_name': 'users', 'column_name': 'users.first_name', 'column_data_type': 'string', 'column_title': 'Users First Name', 'column_description': 'None', 'column_member_type': 'dimension', 'column_values': [], 'cube_data_obj_type': 'cube'}, page_content='Users First Name, None'),\n",
       " Document(metadata={'table_name': 'users', 'column_name': 'users.last_name', 'column_data_type': 'string', 'column_title': 'Users Last Name', 'column_description': 'None', 'column_member_type': 'dimension', 'column_values': [], 'cube_data_obj_type': 'cube'}, page_content='Users Last Name, None'),\n",
       " Document(metadata={'table_name': 'users', 'column_name': 'users.state', 'column_data_type': 'string', 'column_title': 'Users State', 'column_description': 'None', 'column_member_type': 'dimension', 'column_values': [], 'cube_data_obj_type': 'cube'}, page_content='Users State, None'),\n",
       " Document(metadata={'table_name': 'users', 'column_name': 'users.created_at', 'column_data_type': 'time', 'column_title': 'Users Created at', 'column_description': 'None', 'column_member_type': 'dimension', 'column_values': [], 'cube_data_obj_type': 'cube'}, page_content='Users Created at, None'),\n",
       " Document(metadata={'table_name': 'orders_view', 'column_name': 'orders_view.count', 'column_data_type': 'number', 'column_title': 'Orders View Count', 'column_description': 'None', 'column_member_type': 'measure', 'column_values': [], 'cube_data_obj_type': 'view'}, page_content='Orders View Count, None'),\n",
       " Document(metadata={'table_name': 'orders_view', 'column_name': 'orders_view.completed_count', 'column_data_type': 'number', 'column_title': 'Orders View Completed Count', 'column_description': 'None', 'column_member_type': 'measure', 'column_values': [], 'cube_data_obj_type': 'view'}, page_content='Orders View Completed Count, None'),\n",
       " Document(metadata={'table_name': 'orders_view', 'column_name': 'orders_view.completed_percentage', 'column_data_type': 'number', 'column_title': 'Orders View Completed Percentage', 'column_description': 'None', 'column_member_type': 'measure', 'column_values': [], 'cube_data_obj_type': 'view'}, page_content='Orders View Completed Percentage, None'),\n",
       " Document(metadata={'table_name': 'orders_view', 'column_name': 'orders_view.status', 'column_data_type': 'string', 'column_title': 'Orders View Status', 'column_description': 'None', 'column_member_type': 'dimension', 'column_values': [], 'cube_data_obj_type': 'view'}, page_content='Orders View Status, None'),\n",
       " Document(metadata={'table_name': 'orders_view', 'column_name': 'orders_view.created_at', 'column_data_type': 'time', 'column_title': 'Orders View Created at', 'column_description': 'None', 'column_member_type': 'dimension', 'column_values': [], 'cube_data_obj_type': 'view'}, page_content='Orders View Created at, None'),\n",
       " Document(metadata={'table_name': 'orders_view', 'column_name': 'orders_view.users_city', 'column_data_type': 'string', 'column_title': 'Orders View Users City', 'column_description': 'None', 'column_member_type': 'dimension', 'column_values': [], 'cube_data_obj_type': 'view'}, page_content='Orders View Users City, None'),\n",
       " Document(metadata={'table_name': 'orders_view', 'column_name': 'orders_view.users_age', 'column_data_type': 'number', 'column_title': 'Orders View Users Age', 'column_description': 'None', 'column_member_type': 'dimension', 'column_values': [], 'cube_data_obj_type': 'view'}, page_content='Orders View Users Age, None'),\n",
       " Document(metadata={'table_name': 'orders_view', 'column_name': 'orders_view.users_state', 'column_data_type': 'string', 'column_title': 'Orders View Users State', 'column_description': 'None', 'column_member_type': 'dimension', 'column_values': [], 'cube_data_obj_type': 'view'}, page_content='Orders View Users State, None')]"
      ]
     },
     "execution_count": 6,
     "metadata": {},
     "output_type": "execute_result"
    }
   ],
   "execution_count": 6
  }
 ],
 "metadata": {
  "kernelspec": {
   "display_name": "Python 3",
   "language": "python",
   "name": "python3"
  },
  "language_info": {
   "codemirror_mode": {
    "name": "ipython",
    "version": 2
   },
   "file_extension": ".py",
   "mimetype": "text/x-python",
   "name": "python",
   "nbconvert_exporter": "python",
   "pygments_lexer": "ipython2",
   "version": "2.7.6"
  }
 },
 "nbformat": 4,
 "nbformat_minor": 5
}
